{
 "cells": [
  {
   "cell_type": "code",
   "execution_count": 19,
   "id": "3a8d2431",
   "metadata": {},
   "outputs": [],
   "source": [
    "import pandas as pd\n",
    "import glob\n",
    "import os"
   ]
  },
  {
   "cell_type": "code",
   "execution_count": 20,
   "id": "3515dc51",
   "metadata": {},
   "outputs": [],
   "source": [
    "input_folder = \"data\"\n",
    "output_folder = \"csv\"\n",
    "\n",
    "os.makedirs(output_folder,exist_ok=True)"
   ]
  },
  {
   "cell_type": "code",
   "execution_count": 21,
   "id": "05252c26",
   "metadata": {},
   "outputs": [],
   "source": [
    "files = glob.glob(os.path.join(input_folder,\"output*\"))\n",
    "dfs ={}"
   ]
  },
  {
   "cell_type": "code",
   "execution_count": 22,
   "id": "edd10591",
   "metadata": {},
   "outputs": [
    {
     "name": "stdout",
     "output_type": "stream",
     "text": [
      "Saved csv\\output_0.1.log.csv with 28387 rows\n",
      "Saved csv\\output_0.2.log.csv with 28333 rows\n",
      "Saved csv\\output_0.3.log.csv with 28277 rows\n",
      "Saved csv\\output_0.4.log.csv with 28290 rows\n",
      "Saved csv\\output_0.5.log.csv with 28245 rows\n",
      "Saved csv\\output_0.log.csv with 28419 rows\n"
     ]
    }
   ],
   "source": [
    "for file in files:\n",
    "    key = os.path.basename(file)\n",
    "    df=pd.read_csv(file,names=[\"category\",\"log\"],header=0,sep=\",\",engine=\"python\",quotechar='\"',on_bad_lines=\"skip\")\n",
    "    out_path = os.path.join(output_folder,f\"{key}.csv\")\n",
    "    df.to_csv(out_path,index=False)\n",
    "    dfs[key] = df\n",
    "    print(f\"Saved {out_path} with {df.shape[0]} rows\")"
   ]
  },
  {
   "cell_type": "code",
   "execution_count": 25,
   "id": "b21bc940",
   "metadata": {},
   "outputs": [
    {
     "data": {
      "text/plain": [
       "{'output_0.1.log':                     category  \\\n",
       " 0      authentication-failed   \n",
       " 1      authentication-failed   \n",
       " 2      authentication-failed   \n",
       " 3      authentication-failed   \n",
       " 4      authentication-failed   \n",
       " ...                      ...   \n",
       " 28382      user-session-open   \n",
       " 28383      user-session-open   \n",
       " 28384      user-session-open   \n",
       " 28385      user-session-open   \n",
       " 28386      user-session-open   \n",
       " \n",
       "                                                      log  \n",
       " 0      [Tue Apr 11 14:36:11 2000] [error] [client 28....  \n",
       " 1      [Tue Jan 21 17:01:07 2020] [error] [client 108...  \n",
       " 2      [Thu Oct 12 01:17:44 2023] [ malfunction error...  \n",
       " 3      [Tue Jul 30 16:18:08 2013] [error] [client 217...  \n",
       " 4      [Thu Sep 10 05:09:58 2015] [error] [client 2.5...  \n",
       " ...                                                  ...  \n",
       " 28382  Mar 14 19:13:53 individual  localhost su[5680]...  \n",
       " 28383  Apr 08 17:55:51 localhost su[9127]: (pam_unix)...  \n",
       " 28384  for localhost su[6603]: bypam_unix) session op...  \n",
       " 28385  Jul 10 03:23:24 localhost su[9533]: (pam_unix)...  \n",
       " 28386  Apr 22 08:33:54 localhost suby8259]: ()pam_uni...  \n",
       " \n",
       " [28387 rows x 2 columns],\n",
       " 'output_0.2.log':                     category  \\\n",
       " 0      authentication-failed   \n",
       " 1      authentication-failed   \n",
       " 2      authentication-failed   \n",
       " 3      authentication-failed   \n",
       " 4      authentication-failed   \n",
       " ...                      ...   \n",
       " 28328      user-session-open   \n",
       " 28329      user-session-open   \n",
       " 28330      user-session-open   \n",
       " 28331      user-session-open   \n",
       " 28332      user-session-open   \n",
       " \n",
       "                                                      log  \n",
       " 0      [Mon Oct 08 02:06:17 1990] [error] [client 157...  \n",
       " 1      [Tue Sep 27 04:12:32 2011] [error] [client 90....  \n",
       " 2      [Tue Jun 19 16:07:30 1973] [error] [client 27....  \n",
       " 3      [Sat Apr 17 08:58:13 1971] [error] [client  ke...  \n",
       " 4      [Mon Mar 28 12:28:22 1983] [error] [client 123...  \n",
       " ...                                                  ...  \n",
       " 28328  Aug 08 11:15:12 localhost su[9952 person ]: (p...  \n",
       " 28329  Mar 02 18:16:59 localhost su[8437]: (pam_unix)...  \n",
       " 28330  Oct 24 10:02:37 localhost su[8669]: ( accessib...  \n",
       " 28331  Nov 09 13:41:54 localhost su[9462]: (pam_unix)...  \n",
       " 28332  Mar 04 23:42:56 localhost su[5775]: (pam_unix)...  \n",
       " \n",
       " [28333 rows x 2 columns],\n",
       " 'output_0.3.log':                     category  \\\n",
       " 0      authentication-failed   \n",
       " 1      authentication-failed   \n",
       " 2      authentication-failed   \n",
       " 3      authentication-failed   \n",
       " 4      authentication-failed   \n",
       " ...                      ...   \n",
       " 28272      user-session-open   \n",
       " 28273      user-session-open   \n",
       " 28274      user-session-open   \n",
       " 28275      user-session-open   \n",
       " 28276      user-session-open   \n",
       " \n",
       "                                                      log  \n",
       " 0      [Tue Mar 09 06:39:56 2004] [error] [client 191...  \n",
       " 1      [:Mismatch [shake] [client for] user lori8972....  \n",
       " 2      [Wed Oct 31 17:06:57 2012] [error] [client 100...  \n",
       " 3      [Tue Aug 03 14:24:29 1976] [error] [customer e...  \n",
       " 4      [Tue Feb 25 23:53:19 2014] [error] [client app...  \n",
       " ...                                                  ...  \n",
       " 28272  Nov 30 01:11:33 localhost su[5364]: (pam_unix)...  \n",
       " 28273  Jun 10 01:37:04 localhost interaction  su[6810...  \n",
       " 28274  May 10 02:53:08 localhost su[7182]: conversati...  \n",
       " 28275  Jul 03 12:01:37 localhost su[6280]: (pam_unix)...  \n",
       " 28276  May 01 06:44:23 localhost su[5758]: (pam_unix)...  \n",
       " \n",
       " [28277 rows x 2 columns],\n",
       " 'output_0.4.log':                     category  \\\n",
       " 0      authentication-failed   \n",
       " 1      authentication-failed   \n",
       " 2      authentication-failed   \n",
       " 3      authentication-failed   \n",
       " 4      authentication-failed   \n",
       " ...                      ...   \n",
       " 28285      user-session-open   \n",
       " 28286      user-session-open   \n",
       " 28287      user-session-open   \n",
       " 28288      user-session-open   \n",
       " 28289      user-session-open   \n",
       " \n",
       "                                                      log  \n",
       " 0      [Thu Nov 23 09:19:35 1972] [error] [client 65....  \n",
       " 1      [client] :errorSat Apr 18 19:55:06 1992 [5.33....  \n",
       " 2      Password/user [Wed Oct 29 11:52:11 2014] melis...  \n",
       " 3      [ collapse Tue Jan 27 15:55:20 1970] [error] [...  \n",
       " 4      [Wed Jul 26 22:32:17 1978] [error] [client sys...  \n",
       " ...                                                  ...  \n",
       " 28285  Dec 29 19:39:15 localhost su[9889]: (pam_unix)...  \n",
       " 28286  Apr 20 20:49:53 localhost su[7272]: (pam_unix)...  \n",
       " 28287  8596 localhost su[Oct 25 21:32:33306staceyliu ...  \n",
       " 28288  Mar 18 21:07:05 localhost su[5548]: (pam_unix)...  \n",
       " 28289  opened localhost su=]pam_unix: (by) user [ ( s...  \n",
       " \n",
       " [28290 rows x 2 columns],\n",
       " 'output_0.5.log':                     category  \\\n",
       " 0      authentication-failed   \n",
       " 1      authentication-failed   \n",
       " 2      authentication-failed   \n",
       " 3      authentication-failed   \n",
       " 4      authentication-failed   \n",
       " ...                      ...   \n",
       " 28240      user-session-open   \n",
       " 28241      user-session-open   \n",
       " 28242      user-session-open   \n",
       " 28243      user-session-open   \n",
       " 28244      user-session-open   \n",
       " \n",
       "                                                      log  \n",
       " 0      [Tue Jan 28 01:27:51 2014] [error] [client 156...  \n",
       " 1      :forauthentication [failure] /authority/car.wa...  \n",
       " 2      [Thu Jan 29 19:35:44 2015] [problem] [user int...  \n",
       " 3      [Fri Dec 01 02:13:27 1989] [error] consumer  [...  \n",
       " 4      [Tue Oct 16 00:46:14 1984] [error] [client sof...  \n",
       " ...                                                  ...  \n",
       " 28240  Aug 01 12:56:22 localhost su[8746]:  dialogue ...  \n",
       " 28241  Jan 24 03:36:00 localhost su[9193]: (pam_unix)...  \n",
       " 28242  Nov 30 01:04:06 localhost su[7648]: (pam_unix)...  \n",
       " 28243  Dec 28 07:22:38 localhost su[7892] unlocked : ...  \n",
       " 28244  Mar 30 11:38:55 pam_unix by:5072]( )localhost)...  \n",
       " \n",
       " [28245 rows x 2 columns],\n",
       " 'output_0.log':                     category  \\\n",
       " 0      authentication-failed   \n",
       " 1      authentication-failed   \n",
       " 2      authentication-failed   \n",
       " 3      authentication-failed   \n",
       " 4      authentication-failed   \n",
       " ...                      ...   \n",
       " 28414      user-session-open   \n",
       " 28415      user-session-open   \n",
       " 28416      user-session-open   \n",
       " 28417      user-session-open   \n",
       " 28418      user-session-open   \n",
       " \n",
       "                                                      log  \n",
       " 0      [Wed Nov 03 19:30:11 1976] [error] [client 217...  \n",
       " 1      [Sat May 21 08:27:17 1988] [error] [client 195...  \n",
       " 2      [Sat Jul 21 16:54:26 2001] [error] [client 129...  \n",
       " 3      [Thu Apr 15 21:41:51 1971] [error] [client 199...  \n",
       " 4      [Sun May 22 01:51:12 1977] [error] [client 122...  \n",
       " ...                                                  ...  \n",
       " 28414  Jan 10 09:18:57 localhost su[6578]: (pam_unix)...  \n",
       " 28415  Jun 03 12:18:54 localhost su[6220]: (pam_unix)...  \n",
       " 28416  Apr 22 17:55:54 localhost su[5883]: (pam_unix)...  \n",
       " 28417  Feb 06 05:17:26 localhost su[5934]: (pam_unix)...  \n",
       " 28418  Sep 26 06:23:31 localhost su[7496]: (pam_unix)...  \n",
       " \n",
       " [28419 rows x 2 columns]}"
      ]
     },
     "execution_count": 25,
     "metadata": {},
     "output_type": "execute_result"
    }
   ],
   "source": [
    "dfs"
   ]
  },
  {
   "cell_type": "code",
   "execution_count": 26,
   "id": "24d5c69b",
   "metadata": {},
   "outputs": [
    {
     "name": "stdout",
     "output_type": "stream",
     "text": [
      "Preview of output_0 file: \n",
      "                 category                                                log\n",
      "0   authentication-failed  [Wed Nov 03 19:30:11 1976] [error] [client 217...\n",
      "1   authentication-failed  [Sat May 21 08:27:17 1988] [error] [client 195...\n",
      "2   authentication-failed  [Sat Jul 21 16:54:26 2001] [error] [client 129...\n",
      "3   authentication-failed  [Thu Apr 15 21:41:51 1971] [error] [client 199...\n",
      "4   authentication-failed  [Sun May 22 01:51:12 1977] [error] [client 122...\n",
      "5   authentication-failed  [Fri Mar 09 00:45:08 1973] [error] [client 91....\n",
      "6   authentication-failed  [Thu Feb 14 03:22:29 2002] [error] [client 41....\n",
      "7   authentication-failed  [Sun Aug 14 08:20:55 1988] [error] [client 38....\n",
      "8   authentication-failed  [Mon Jun 20 03:03:04 1994] [error] [client 30....\n",
      "9   authentication-failed  [Fri Mar 02 21:35:53 1973] [error] [client 199...\n",
      "10  authentication-failed  [Thu Sep 15 17:18:17 2016] [error] [client 147...\n",
      "11  authentication-failed  [Fri Sep 04 00:16:12 1981] [error] [client 216...\n",
      "12  authentication-failed  [Wed Sep 26 06:11:11 2007] [error] [client 102...\n",
      "13  authentication-failed  [Wed Oct 26 19:50:12 1983] [error] [client 181...\n",
      "14  authentication-failed  [Mon Nov 17 18:56:57 1986] [error] [client 118...\n"
     ]
    }
   ],
   "source": [
    "print(\"Preview of output_0 file: \")\n",
    "print(dfs[\"output_0.log\"].head(15))"
   ]
  },
  {
   "cell_type": "markdown",
   "id": "b78a8907",
   "metadata": {},
   "source": [
    "### Merged CSV"
   ]
  },
  {
   "cell_type": "code",
   "execution_count": 31,
   "id": "7e4050ec",
   "metadata": {},
   "outputs": [],
   "source": [
    "csv_files = glob.glob(\"csv/output*\")\n",
    "all_dfs = []\n",
    "entropy_map = {\n",
    "    \"output_0.log\": 0.0,\n",
    "    \"output_0.1.log\": 0.1,\n",
    "    \"output_0.2.log\": 0.2,\n",
    "    \"output_0.3.log\": 0.3,\n",
    "    \"output_0.4.log\": 0.4,\n",
    "    \"output_0.5.log\": 0.5,\n",
    "}\n",
    "for file in csv_files:\n",
    "    key = os.path.basename(file).replace(\".csv\",\"\")\n",
    "    df = pd.read_csv(file)\n",
    "    df[\"dataset_variant\"] = key\n",
    "    df[\"entropy_p\"] = entropy_map[key]\n",
    "    all_dfs.append(df)"
   ]
  },
  {
   "cell_type": "code",
   "execution_count": 32,
   "id": "65854046",
   "metadata": {},
   "outputs": [
    {
     "name": "stdout",
     "output_type": "stream",
     "text": [
      "Merged CSV saved as csv\\merged_csv.csv with 169951 rows\n"
     ]
    }
   ],
   "source": [
    "merged_df = pd.concat(all_dfs,ignore_index=True)\n",
    "out_path = os.path.join(\"csv\",\"merged_csv.csv\")\n",
    "merged_df.to_csv(out_path,index=False)\n",
    "print(f\"Merged CSV saved as {out_path} with {merged_df.shape[0]} rows\")"
   ]
  },
  {
   "cell_type": "code",
   "execution_count": null,
   "id": "e3dfe406",
   "metadata": {},
   "outputs": [
    {
     "name": "stdout",
     "output_type": "stream",
     "text": [
      "                category                                                log  \\\n",
      "0  authentication-failed  [Tue Apr 11 14:36:11 2000] [error] [client 28....   \n",
      "1  authentication-failed  [Tue Jan 21 17:01:07 2020] [error] [client 108...   \n",
      "2  authentication-failed  [Thu Oct 12 01:17:44 2023] [ malfunction error...   \n",
      "3  authentication-failed  [Tue Jul 30 16:18:08 2013] [error] [client 217...   \n",
      "4  authentication-failed  [Thu Sep 10 05:09:58 2015] [error] [client 2.5...   \n",
      "5  authentication-failed  [Thu Feb 02 18:13:11 2012] [error] [client 58....   \n",
      "6  authentication-failed  [Tue Apr 26 18:14:19 2016] [error] [client 103...   \n",
      "7  authentication-failed  [Sun Jun 28 01:13:28 2020] [error] [client 132...   \n",
      "8  authentication-failed  [Wed Apr 16 12:03:20 1986] [error] [client 163...   \n",
      "9  authentication-failed  [Sat Mar 31 00:56:01 2007] [error] [client 219...   \n",
      "\n",
      "  dataset_variant  entropy_p  \n",
      "0  output_0.1.log        0.1  \n",
      "1  output_0.1.log        0.1  \n",
      "2  output_0.1.log        0.1  \n",
      "3  output_0.1.log        0.1  \n",
      "4  output_0.1.log        0.1  \n",
      "5  output_0.1.log        0.1  \n",
      "6  output_0.1.log        0.1  \n",
      "7  output_0.1.log        0.1  \n",
      "8  output_0.1.log        0.1  \n",
      "9  output_0.1.log        0.1  \n"
     ]
    }
   ],
   "source": [
    "print(merged_df.head(10))"
   ]
  },
  {
   "cell_type": "code",
   "execution_count": null,
   "id": "6fb815c9",
   "metadata": {},
   "outputs": [],
   "source": []
  }
 ],
 "metadata": {
  "kernelspec": {
   "display_name": "Python 3",
   "language": "python",
   "name": "python3"
  },
  "language_info": {
   "codemirror_mode": {
    "name": "ipython",
    "version": 3
   },
   "file_extension": ".py",
   "mimetype": "text/x-python",
   "name": "python",
   "nbconvert_exporter": "python",
   "pygments_lexer": "ipython3",
   "version": "3.10.4"
  }
 },
 "nbformat": 4,
 "nbformat_minor": 5
}
